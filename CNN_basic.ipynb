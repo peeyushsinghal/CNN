{
  "nbformat": 4,
  "nbformat_minor": 0,
  "metadata": {
    "colab": {
      "name": "CNN_basic.ipynb",
      "provenance": [],
      "collapsed_sections": [],
      "toc_visible": true,
      "authorship_tag": "ABX9TyNE4OhiJRN/IqlV+MdIRtlR",
      "include_colab_link": true
    },
    "kernelspec": {
      "name": "python3",
      "display_name": "Python 3"
    }
  },
  "cells": [
    {
      "cell_type": "markdown",
      "metadata": {
        "id": "view-in-github",
        "colab_type": "text"
      },
      "source": [
        "<a href=\"https://colab.research.google.com/github/peeyushsinghal/CNN/blob/master/CNN_basic.ipynb\" target=\"_parent\"><img src=\"https://colab.research.google.com/assets/colab-badge.svg\" alt=\"Open In Colab\"/></a>"
      ]
    },
    {
      "cell_type": "markdown",
      "metadata": {
        "id": "eJ9bw-awIo-D",
        "colab_type": "text"
      },
      "source": [
        "Exploring to create CNN through basic libraries\n",
        "\n",
        "Architecture : Input Layer -> Conv Layer 1 -> Relu 1 -> Conv Layer 2 -> Relu 2 -> Maxpool layer -> Dense (Fully Connected) Layer -> Ouput"
      ]
    },
    {
      "cell_type": "markdown",
      "metadata": {
        "id": "L3PR8b3YIu-Y",
        "colab_type": "text"
      },
      "source": [
        "1. Importing Libraries"
      ]
    },
    {
      "cell_type": "code",
      "metadata": {
        "id": "HUIvE3hjIZ2q",
        "colab_type": "code",
        "colab": {}
      },
      "source": [
        "import numpy as np\n",
        "import matplotlib.pyplot as plt # for showing images\n",
        "import tensorflow as tf # only for importing keras dataset\n",
        "import random # for generating random number (image index)\n",
        "\n",
        "\n"
      ],
      "execution_count": 47,
      "outputs": []
    },
    {
      "cell_type": "markdown",
      "metadata": {
        "id": "4GzpJ0QYI8nn",
        "colab_type": "text"
      },
      "source": [
        "2. Getting data : Importing the dataset - MNIST hand written digits https://keras.io/api/datasets/mnist/. "
      ]
    },
    {
      "cell_type": "code",
      "metadata": {
        "id": "BPn26hBOJIgy",
        "colab_type": "code",
        "colab": {}
      },
      "source": [
        "(x_train, y_train), (x_test, y_test) = tf.keras.datasets.mnist.load_data(path=\"mnist.npz\")\n",
        "# Tuple of Numpy arrays: (x_train, y_train), (x_test, y_test)\n",
        "#x_train: uint8 arrays of grayscale image data with shapes (num_samples, 28, 28).\n",
        "#y_train: uint8 arrays of digit labels (integers in range 0-9) with shapes (num_samples,)"
      ],
      "execution_count": 35,
      "outputs": []
    },
    {
      "cell_type": "code",
      "metadata": {
        "id": "ztUZMGtdJhZI",
        "colab_type": "code",
        "colab": {
          "base_uri": "https://localhost:8080/",
          "height": 34
        },
        "outputId": "3d6acf39-b0af-4d1f-8f82-1b68c5eff57c"
      },
      "source": [
        "# Checking the downloaded data\n",
        "x_train.shape\n",
        "# around 60000 images"
      ],
      "execution_count": 36,
      "outputs": [
        {
          "output_type": "execute_result",
          "data": {
            "text/plain": [
              "(60000, 28, 28)"
            ]
          },
          "metadata": {
            "tags": []
          },
          "execution_count": 36
        }
      ]
    },
    {
      "cell_type": "code",
      "metadata": {
        "id": "cRncx-BBJmdB",
        "colab_type": "code",
        "colab": {
          "base_uri": "https://localhost:8080/",
          "height": 282
        },
        "outputId": "f6fcdd9d-cfe9-4b3b-d251-83a9276a7e96"
      },
      "source": [
        "# visualizing the data\n",
        "n = random.randint(0,x_train.shape[0]-1)# generated a random integer between 0 and image index\n",
        "img = x_train[n].reshape((28, 28)) # using the index, get the image reshaped to 28, 28, [ understood by stackoverflow comments]\n",
        "label = y_train[n] # the label for the corresponding index\n",
        "print(\"Label: \",label)\n",
        "plt.imshow(img, cmap='gray')\n",
        "plt.show()"
      ],
      "execution_count": 37,
      "outputs": [
        {
          "output_type": "stream",
          "text": [
            "Label:  3\n"
          ],
          "name": "stdout"
        },
        {
          "output_type": "display_data",
          "data": {
            "image/png": "[encoded data removed]",
            "text/plain": [
              "<Figure size 432x288 with 1 Axes>"
            ]
          },
          "metadata": {
            "tags": [],
            "needs_background": "light"
          }
        }
      ]
    },
    {
      "cell_type": "markdown",
      "metadata": {
        "id": "o7t2f011V8sC",
        "colab_type": "text"
      },
      "source": [
        "3. Normalizing Data"
      ]
    },
    {
      "cell_type": "code",
      "metadata": {
        "id": "UgtzpGmhLTtO",
        "colab_type": "code",
        "colab": {}
      },
      "source": [
        "# normalising the image data set\n",
        "def normalise_data(data):\n",
        "  data=data.reshape(data.shape[0],28,28,1).astype('float32') # creating tensor by reshaping Image_set_size, 28, 28, 1\n",
        "  data= (data-int(np.mean(data)))/(int(np.std(data)))  # Normalize the images using standard normalization"
      ],
      "execution_count": 38,
      "outputs": []
    },
    {
      "cell_type": "code",
      "metadata": {
        "id": "xE0rox6GMTZm",
        "colab_type": "code",
        "colab": {}
      },
      "source": [
        "# normalising training data\n",
        "x_train = normalise_data(x_train)"
      ],
      "execution_count": 39,
      "outputs": []
    },
    {
      "cell_type": "markdown",
      "metadata": {
        "id": "FdeWfFLKWNEY",
        "colab_type": "text"
      },
      "source": [
        "4. Hyperparameters"
      ]
    },
    {
      "cell_type": "code",
      "metadata": {
        "id": "ih8C-z7JS6Fv",
        "colab_type": "code",
        "colab": {}
      },
      "source": [
        "#Hyperparameters\n",
        "\n",
        "NUM_OUTPUT = 10 # output data\n",
        "LEARNING_RATE = 0.01\t#learning rate\n",
        "IMG_WIDTH = 28 # image width\n",
        "IMG_DEPTH = 1\n",
        "FILTER_SIZE=5 # assuming a square filter\n",
        "NUM_FILT1 = 8 # number of filters in layer 1\n",
        "NUM_FILT2 = 8 # number of filters in layer 2\n",
        "BATCH_SIZE = 20\n",
        "NUM_EPOCHS = 2\t # number of iterations\n",
        "MU = 0.95\n",
        "\n",
        "PICKLE_FILE = 'output.pickle'\n",
        "# PICKLE_FILE = 'trained.pickle'"
      ],
      "execution_count": 42,
      "outputs": []
    },
    {
      "cell_type": "markdown",
      "metadata": {
        "id": "tf8HxcInWxtH",
        "colab_type": "text"
      },
      "source": [
        "5. Initializing parameters"
      ]
    },
    {
      "cell_type": "code",
      "metadata": {
        "id": "N-Td6SadWsCu",
        "colab_type": "code",
        "colab": {}
      },
      "source": [
        "filter_1 ={} # weights of filters of layer 1\n",
        "filter_2 ={} # weights of filters of layer 2\n",
        "bias_1 ={} # bias of filter of layer 1\n",
        "bias_2 ={} # bias of filter of layer 2"
      ],
      "execution_count": 40,
      "outputs": []
    },
    {
      "cell_type": "code",
      "metadata": {
        "id": "TQtDIRBYYU85",
        "colab_type": "code",
        "colab": {}
      },
      "source": [
        "#initializes layer with filter weights for each filter and bias\n",
        "def init_layer(num_filter,filter_size=FILTER_SIZE,img_depth = IMG_DEPTH):\n",
        "  list_filter = list()\n",
        "  for i in range(0,num_filter):\n",
        "    initializer = tf.keras.initializers.RandomNormal(mean=0.0, stddev=1, seed=None)\n",
        "    filter = initializer(shape=(filter_size,filter_size))\n",
        "    list_filter.append(filter)\n",
        "  bias=0\n",
        "  return list_filter,bias"
      ],
      "execution_count": 51,
      "outputs": []
    },
    {
      "cell_type": "code",
      "metadata": {
        "id": "FuTAjpooZgXj",
        "colab_type": "code",
        "colab": {}
      },
      "source": [
        "# initializing layer 1\n",
        "filter_1,bias_1 = init_layer(NUM_FILT1)"
      ],
      "execution_count": 56,
      "outputs": []
    },
    {
      "cell_type": "code",
      "metadata": {
        "id": "sVxOfrOv_2nU",
        "colab_type": "code",
        "colab": {}
      },
      "source": [
        "# initializing layer 2\n",
        "filter_2, bias_2 = init_layer(NUM_FILT2)"
      ],
      "execution_count": 57,
      "outputs": []
    },
    {
      "cell_type": "code",
      "metadata": {
        "id": "RM46hsvUYUEK",
        "colab_type": "code",
        "colab": {}
      },
      "source": [
        ""
      ],
      "execution_count": null,
      "outputs": []
    },
    {
      "cell_type": "markdown",
      "metadata": {
        "id": "VBtyRSTkIoH1",
        "colab_type": "text"
      },
      "source": [
        ""
      ]
    }
  ]
}
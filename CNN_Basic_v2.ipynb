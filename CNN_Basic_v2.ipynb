{
  "nbformat": 4,
  "nbformat_minor": 0,
  "metadata": {
    "colab": {
      "name": "CNN_Basic_v2.ipynb",
      "provenance": [],
      "collapsed_sections": [],
      "authorship_tag": "ABX9TyO8liX+tqA18SZzQkDqMNsP",
      "include_colab_link": true
    },
    "kernelspec": {
      "name": "python3",
      "display_name": "Python 3"
    }
  },
  "cells": [
    {
      "cell_type": "markdown",
      "metadata": {
        "id": "view-in-github",
        "colab_type": "text"
      },
      "source": [
        "<a href=\"https://colab.research.google.com/github/peeyushsinghal/CNN/blob/master/CNN_Basic_v2.ipynb\" target=\"_parent\"><img src=\"https://colab.research.google.com/assets/colab-badge.svg\" alt=\"Open In Colab\"/></a>"
      ]
    },
    {
      "cell_type": "markdown",
      "metadata": {
        "id": "zyHCGtStHIJS",
        "colab_type": "text"
      },
      "source": [
        "Exploring to create CNN through basic libraries\n",
        "\n",
        "Architecture : Input Layer -> Conv Layer 1 -> Relu 1 ->  Maxpool layer -> Dense (Fully Connected) Layer -> Ouput"
      ]
    },
    {
      "cell_type": "markdown",
      "metadata": {
        "id": "mizb-yAEHG3f",
        "colab_type": "text"
      },
      "source": [
        "1. Import Libraries"
      ]
    },
    {
      "cell_type": "code",
      "metadata": {
        "id": "oYpLxjIfHMK-",
        "colab_type": "code",
        "colab": {}
      },
      "source": [
        "import numpy as np\n",
        "import matplotlib.pyplot as plt # for showing images\n",
        "import tensorflow as tf # only for importing keras dataset\n",
        "import random # for generating random number (image index)\n",
        "import tensorflow.keras.datasets.mnist"
      ],
      "execution_count": 142,
      "outputs": []
    },
    {
      "cell_type": "markdown",
      "metadata": {
        "id": "sOPbti5iHzcR",
        "colab_type": "text"
      },
      "source": [
        "2. Getting data : Importing the dataset - MNIST hand written digits https://keras.io/api/datasets/mnist/. \n",
        "\n"
      ]
    },
    {
      "cell_type": "code",
      "metadata": {
        "id": "f171tWdyHycB",
        "colab_type": "code",
        "colab": {}
      },
      "source": [
        "(x_train, y_train), (x_test, y_test) = tf.keras.datasets.mnist.load_data(path=\"mnist.npz\")\n",
        "# Tuple of Numpy arrays: (x_train, y_train), (x_test, y_test)\n",
        "#x_train: uint8 arrays of grayscale image data with shapes (num_samples, 28, 28).\n",
        "#y_train: uint8 arrays of digit labels (integers in range 0-9) with shapes (num_samples,)"
      ],
      "execution_count": 143,
      "outputs": []
    },
    {
      "cell_type": "code",
      "metadata": {
        "id": "URASgAj2H43u",
        "colab_type": "code",
        "colab": {
          "base_uri": "https://localhost:8080/",
          "height": 34
        },
        "outputId": "f8e9e492-3f0f-4555-dc41-8d16c7951545"
      },
      "source": [
        "# Checking the downloaded data, using a subset only\n",
        "train_img = x_train[:1000] # around 1500 images for training\n",
        "train_label = y_train[:1000]\n",
        "test_img = x_train[:100] # around 1500 images for training\n",
        "test_label = y_test[0:100]\n",
        "train_img.shape\n"
      ],
      "execution_count": 144,
      "outputs": [
        {
          "output_type": "execute_result",
          "data": {
            "text/plain": [
              "(1000, 28, 28)"
            ]
          },
          "metadata": {
            "tags": []
          },
          "execution_count": 144
        }
      ]
    },
    {
      "cell_type": "code",
      "metadata": {
        "id": "9dAXnOw8H5yW",
        "colab_type": "code",
        "colab": {
          "base_uri": "https://localhost:8080/",
          "height": 282
        },
        "outputId": "74d5d41d-9b0c-440d-98c8-851a2a8e7610"
      },
      "source": [
        "# visualizing the data\n",
        "n = random.randint(0,train_img.shape[0]-1)# generated a random integer between 0 and image index\n",
        "img = train_img[n].reshape((28, 28)) # using the index, get the image reshaped to 28, 28, [ understood by stackoverflow comments]\n",
        "label = train_label[n] # the label for the corresponding index\n",
        "print(\"Label: \",label)\n",
        "plt.imshow(img, cmap='gray')\n",
        "plt.show()"
      ],
      "execution_count": 145,
      "outputs": [
        {
          "output_type": "stream",
          "text": [
            "Label:  0\n"
          ],
          "name": "stdout"
        },
        {
          "output_type": "display_data",
          "data": {
            "image/png": "[encoded data removed]",
            "text/plain": [
              "<Figure size 432x288 with 1 Axes>"
            ]
          },
          "metadata": {
            "tags": [],
            "needs_background": "light"
          }
        }
      ]
    },
    {
      "cell_type": "markdown",
      "metadata": {
        "id": "utBnb-DCJdlI",
        "colab_type": "text"
      },
      "source": [
        "3. Breaking the CNN into 3 part - a. Convolution, b. Max Pool and 3. Softmax layer\n",
        "\n",
        "Looking at A. Convolution Operation"
      ]
    },
    {
      "cell_type": "code",
      "metadata": {
        "id": "hHMQU7z0Jr3b",
        "colab_type": "code",
        "colab": {}
      },
      "source": [
        "class conv:\n",
        "\n",
        "  def __init__(self,num_filter,filter_size):\n",
        "    self.num_filter = num_filter\n",
        "    self.filter_size = filter_size # assuming square filter, we don't need other size\n",
        "    self.conv_filter = np.random.randn(num_filter,filter_size,filter_size)/(filter_size*filter_size) # random initialitization\n",
        "\n",
        "  def image_patch(self,image): # generator function to generate image patches to put into convolution function\n",
        "    height,width = image.shape # please note first param is height and next is width\n",
        "    self.image = image\n",
        "    for i in range(height-self.filter_size+1):\n",
        "      for j in range (width-self.filter_size+1):\n",
        "        image_region = image[i:(i+self.filter_size),j:(j+self.filter_size)]\n",
        "        yield image_region, i, j \n",
        "\n",
        "  def forward_propogation(self,image):\n",
        "    height,width = image.shape\n",
        "    conv_output = np.zeros((height-self.filter_size+1,width-self.filter_size+1,self.num_filter))\n",
        "    for img_patch, i, j in self.image_patch(image):\n",
        "      conv_output[i,j]= np.sum(img_patch*self.conv_filter,axis=(1,2))\n",
        "    return conv_output\n",
        "\n",
        "  def backward_propogation(self, dL_dout,lr):\n",
        "    dL_dF_params = np.zeros(self.conv_filter.shape)\n",
        "    for img_patch, i, j in self.image_patch(self.image):\n",
        "      for k in range(self.num_filter):\n",
        "        dL_dF_params[k] = dL_dF_params[k] + img_patch*dL_dout[i,j,k]\n",
        "    # Filter Param update\n",
        "    self.conv_filter =  self.conv_filter-lr*dL_dF_params\n",
        "    return dL_dF_params"
      ],
      "execution_count": 146,
      "outputs": []
    },
    {
      "cell_type": "code",
      "metadata": {
        "id": "P5GXQpXvnnei",
        "colab_type": "code",
        "colab": {
          "base_uri": "https://localhost:8080/",
          "height": 265
        },
        "outputId": "5adc4966-5c93-42f2-9cc2-d82be433cdc4"
      },
      "source": [
        "plt.imshow(img, cmap='gray')\n",
        "plt.show()"
      ],
      "execution_count": 147,
      "outputs": [
        {
          "output_type": "display_data",
          "data": {
            "image/png": "[encoded data removed]",
            "text/plain": [
              "<Figure size 432x288 with 1 Axes>"
            ]
          },
          "metadata": {
            "tags": [],
            "needs_background": "light"
          }
        }
      ]
    },
    {
      "cell_type": "code",
      "metadata": {
        "id": "8hJs5V5Rm5K1",
        "colab_type": "code",
        "colab": {
          "base_uri": "https://localhost:8080/",
          "height": 34
        },
        "outputId": "68b9ac5f-b777-49e6-87db-8fefaaf44775"
      },
      "source": [
        "# checking forward propogation\n",
        "cnn = conv(8,5)\n",
        "cnn_fwd_output = cnn.forward_propogation(img)\n",
        "cnn_fwd_output.shape\n",
        "# 24 = 28-(5) +1, 8 = number of filters"
      ],
      "execution_count": 148,
      "outputs": [
        {
          "output_type": "execute_result",
          "data": {
            "text/plain": [
              "(24, 24, 8)"
            ]
          },
          "metadata": {
            "tags": []
          },
          "execution_count": 148
        }
      ]
    },
    {
      "cell_type": "code",
      "metadata": {
        "id": "Ue7jTJtinmzL",
        "colab_type": "code",
        "colab": {
          "base_uri": "https://localhost:8080/",
          "height": 265
        },
        "outputId": "90b6db90-a7a5-468d-8909-9dac276aeec1"
      },
      "source": [
        "plt.imshow(cnn_fwd_output[:,:,6], cmap='gray')\n",
        "plt.show()\n",
        "# showing filter 7 (7-1 = 6)"
      ],
      "execution_count": 149,
      "outputs": [
        {
          "output_type": "display_data",
          "data": {
            "image/png": "[encoded data removed]",
            "text/plain": [
              "<Figure size 432x288 with 1 Axes>"
            ]
          },
          "metadata": {
            "tags": [],
            "needs_background": "light"
          }
        }
      ]
    },
    {
      "cell_type": "code",
      "metadata": {
        "id": "U7-HJ4BUpQrs",
        "colab_type": "code",
        "colab": {
          "base_uri": "https://localhost:8080/",
          "height": 265
        },
        "outputId": "ca8c88f9-8029-4561-f4d6-b9c2464c73d2"
      },
      "source": [
        "plt.imshow(cnn_fwd_output[:,:,5], cmap='gray')\n",
        "plt.show()\n",
        "# showing filter 6 (6-1 = 5)"
      ],
      "execution_count": 150,
      "outputs": [
        {
          "output_type": "display_data",
          "data": {
            "image/png": "[encoded data removed]",
            "text/plain": [
              "<Figure size 432x288 with 1 Axes>"
            ]
          },
          "metadata": {
            "tags": [],
            "needs_background": "light"
          }
        }
      ]
    },
    {
      "cell_type": "markdown",
      "metadata": {
        "id": "FrC2383bp4Ug",
        "colab_type": "text"
      },
      "source": [
        "\n",
        "Looking at B. Max Pool\n",
        "\n"
      ]
    },
    {
      "cell_type": "code",
      "metadata": {
        "id": "2y8KiWRtp360",
        "colab_type": "code",
        "colab": {}
      },
      "source": [
        "class max_pool:\n",
        "  def __init__(self,filter_size):\n",
        "    self.filter_size = filter_size # filter size is the size as how we want to scale down the image. 1/filter_size would be downsizing\n",
        "\n",
        "  def image_patch(self,image): # generator function to generate image patches to put into max pool forward fuction\n",
        "    new_height = image.shape[0] // self.filter_size # the new height of the image\n",
        "    new_width = image.shape[1] // self.filter_size # the new width of the image\n",
        "    self.image = image \n",
        "    for i in range(new_height):\n",
        "      for j in range (new_width):\n",
        "        image_region = image[(i*self.filter_size):(i*self.filter_size+self.filter_size),(j*self.filter_size):(j*self.filter_size+self.filter_size)]\n",
        "        yield image_region, i, j\n",
        "\n",
        "  def forward_propogation(self,image):\n",
        "    height,width,num_filters = image.shape # please note that the depth of the image would also contain filter size after conv processing\n",
        "    max_pool_output = np.zeros((height // self.filter_size, width // self.filter_size, num_filters))\n",
        "\n",
        "    for img_patch, i, j in self.image_patch(image):\n",
        "      max_pool_output[i,j]= np.amax(img_patch,axis=(0,1))\n",
        "    return max_pool_output\n",
        "\n",
        "  def backward_propogation(self, dL_dout): # please note that there is no update of gradient in max pool\n",
        "    dL_dmax_pool = np.zeros(self.image.shape)\n",
        "    for img_patch, i, j in self.image_patch(self.image):\n",
        "      height, width, num_filters = img_patch.shape\n",
        "      maximum_val = np.amax(img_patch,axis=(0,1))\n",
        "\n",
        "      for i1 in range(height):\n",
        "        for j1 in range(width):\n",
        "          for k1 in range(num_filters):\n",
        "            if img_patch[i1,j1,k1] == maximum_val[k1]:\n",
        "              dL_dmax_pool[i*self.filter_size+i1, j*self.filter_size+j1, k1] = dL_dout[i,j,k1]\n",
        "      # there are no weights and biases asssociated with max pool operation and hence no updates\n",
        "      return dL_dmax_pool"
      ],
      "execution_count": 151,
      "outputs": []
    },
    {
      "cell_type": "code",
      "metadata": {
        "id": "0vfDaONL0DgH",
        "colab_type": "code",
        "colab": {
          "base_uri": "https://localhost:8080/",
          "height": 34
        },
        "outputId": "8e995157-c670-49b2-e3bd-3a1869b5a70c"
      },
      "source": [
        "m_pool = max_pool(2)\n",
        "m_pool_output = m_pool.forward_propogation(cnn_fwd_output)\n",
        "m_pool_output.shape\n",
        "# reduction of size by 2"
      ],
      "execution_count": 152,
      "outputs": [
        {
          "output_type": "execute_result",
          "data": {
            "text/plain": [
              "(12, 12, 8)"
            ]
          },
          "metadata": {
            "tags": []
          },
          "execution_count": 152
        }
      ]
    },
    {
      "cell_type": "code",
      "metadata": {
        "id": "p5Uh7vfP0sg-",
        "colab_type": "code",
        "colab": {
          "base_uri": "https://localhost:8080/",
          "height": 265
        },
        "outputId": "a638e3d0-f718-4e7d-c25c-607a9a2a1f04"
      },
      "source": [
        "plt.imshow(m_pool_output[:,:,6], cmap='gray')\n",
        "plt.show()\n",
        "# showing filter 7 (7-1 = 6)"
      ],
      "execution_count": 153,
      "outputs": [
        {
          "output_type": "display_data",
          "data": {
            "image/png": "[encoded data removed]",
            "text/plain": [
              "<Figure size 432x288 with 1 Axes>"
            ]
          },
          "metadata": {
            "tags": [],
            "needs_background": "light"
          }
        }
      ]
    },
    {
      "cell_type": "markdown",
      "metadata": {
        "id": "dWoPteGI1Rd-",
        "colab_type": "text"
      },
      "source": [
        "Looking at C. Soft Max"
      ]
    },
    {
      "cell_type": "code",
      "metadata": {
        "id": "69Y1rGRU1USk",
        "colab_type": "code",
        "colab": {}
      },
      "source": [
        "class Softmax:\n",
        "  def __init__(self,input_node, softmax_node):\n",
        "    self.weight = np.random.randn(input_node, softmax_node) # random initialitization\n",
        "    self.bias = np.zeros(softmax_node)\n",
        "\n",
        "  def forward_propogation(self,image):\n",
        "    self.orig_img_shape = image.shape\n",
        "    image_modified = image.flatten()\n",
        "    self.modified_input = image_modified\n",
        "\n",
        "    output_val = np.dot(image_modified,self.weight)+self.bias\n",
        "    self.out = output_val\n",
        "    exp_out = np.exp(output_val)\n",
        "    return (exp_out/np.sum(exp_out, axis=0))\n",
        "\n",
        "  def backward_propogation(self, dL_dout,lr): \n",
        "    for i, grad in enumerate(dL_dout):\n",
        "      if grad ==0:\n",
        "        continue\n",
        "      transformation_eq = np.exp(self.out)\n",
        "      S_total = np.sum(transformation_eq)\n",
        "\n",
        "      # Gradients with respect to out (z)\n",
        "      dy_dz = -transformation_eq[i]*transformation_eq / (S_total**2)\n",
        "      dy_dz[i] = transformation_eq[i]*(S_total-transformation_eq[i]) / (S_total**2)\n",
        "\n",
        "      # Gradients of totals with respect to weights /biases / input\n",
        "      dz_dw  =self.modified_input\n",
        "      dz_db = 1\n",
        "      dz_d_inp = self.weight\n",
        "\n",
        "      # Gradients of loss with respect to totals\n",
        "      dL_dz = grad * dy_dz\n",
        "\n",
        "      # Gradients of loss with respect to weights /biases / input\n",
        "      dL_dw = dz_dw[np.newaxis].T @ dL_dz[np.newaxis]\n",
        "      dL_db = dL_dz * dz_db\n",
        "      dL_d_inp = dz_d_inp @ dL_dz\n",
        "\n",
        "    # Weight and bias update\n",
        "    self.weight =  self.weight - lr * dL_dw\n",
        "    self.bias = self.bias - lr * dL_db\n",
        "\n",
        "    return dL_d_inp.reshape(self.orig_img_shape)\n",
        "\n"
      ],
      "execution_count": 154,
      "outputs": []
    },
    {
      "cell_type": "code",
      "metadata": {
        "id": "hoNiSDAk53Oa",
        "colab_type": "code",
        "colab": {
          "base_uri": "https://localhost:8080/",
          "height": 34
        },
        "outputId": "e2553871-50b2-4fea-a4f0-cdb689ba0884"
      },
      "source": [
        "input_dim_softmax = m_pool_output.shape[0] * m_pool_output.shape[1] * m_pool_output.shape[2]\n",
        "print(input_dim_softmax)"
      ],
      "execution_count": 155,
      "outputs": [
        {
          "output_type": "stream",
          "text": [
            "1152\n"
          ],
          "name": "stdout"
        }
      ]
    },
    {
      "cell_type": "code",
      "metadata": {
        "id": "mJyG04wl7Msr",
        "colab_type": "code",
        "colab": {
          "base_uri": "https://localhost:8080/",
          "height": 102
        },
        "outputId": "ea2a25e5-5cb2-40ae-f3dc-9a91b91ba4f2"
      },
      "source": [
        "soft_max = Softmax(input_dim_softmax,10)\n",
        "soft_max_output = soft_max.forward_propogation(m_pool_output)\n",
        "print(soft_max_output)"
      ],
      "execution_count": 156,
      "outputs": [
        {
          "output_type": "stream",
          "text": [
            "[ 0.  0.  0.  0.  0.  0.  0.  0.  0. nan]\n"
          ],
          "name": "stdout"
        },
        {
          "output_type": "stream",
          "text": [
            "/usr/local/lib/python3.6/dist-packages/ipykernel_launcher.py:13: RuntimeWarning: overflow encountered in exp\n",
            "  del sys.path[0]\n",
            "/usr/local/lib/python3.6/dist-packages/ipykernel_launcher.py:14: RuntimeWarning: invalid value encountered in true_divide\n",
            "  \n"
          ],
          "name": "stderr"
        }
      ]
    },
    {
      "cell_type": "markdown",
      "metadata": {
        "id": "qi8dR6z_8eKb",
        "colab_type": "text"
      },
      "source": [
        "Writing main function to conv, max pool and backprop"
      ]
    },
    {
      "cell_type": "code",
      "metadata": {
        "id": "3JfMfo6q8dP3",
        "colab_type": "code",
        "colab": {}
      },
      "source": [
        "conv_object= conv(8,5)  # 28x28x1 => 24x24x8\n",
        "pool_object = max_pool(2) # 24x24x8 => 12x12x8\n",
        "soft_max_object = Softmax(12*12*8,10) # 12x12x8 => 10"
      ],
      "execution_count": 157,
      "outputs": []
    },
    {
      "cell_type": "code",
      "metadata": {
        "id": "OkRQ5HWo9qqo",
        "colab_type": "code",
        "colab": {}
      },
      "source": [
        "def cnn_forward_propogation(image,label):\n",
        "  output_f_p = conv_object.forward_propogation((image/255)-0.5)\n",
        "  output_f_p = pool_object.forward_propogation(output_f_p)\n",
        "  output_f_p = soft_max_object.forward_propogation(output_f_p)\n",
        "\n",
        "  # Calculating cross entropy loss and accuracy\n",
        "\n",
        "  cross_entropy_loss = -np.log(output_f_p[label])\n",
        "  accuracy = 1 if np.argmax(output_f_p) == label else 0\n",
        "  return output_f_p, cross_entropy_loss, accuracy\n"
      ],
      "execution_count": 158,
      "outputs": []
    },
    {
      "cell_type": "code",
      "metadata": {
        "id": "o4MfsRSJ-z8Y",
        "colab_type": "code",
        "colab": {}
      },
      "source": [
        "def training_cnn(image,label, lr = 0.005):\n",
        "  # From forward propopgation\n",
        "  output_f_p, cross_entropy_loss, accuracy = cnn_forward_propogation (image,label)\n",
        "\n",
        "  # Calculation of initial gradient\n",
        "  gradient = np.zeros(10)\n",
        "  gradient[label] = -1 / output_f_p[label]\n",
        "\n",
        "  # Backpropogation\n",
        "  grad_back_prop = soft_max_object.backward_propogation(gradient,lr)\n",
        "  grad_back_prop = pool_object.backward_propogation(grad_back_prop)\n",
        "  grad_back_prop = conv_object.backward_propogation(grad_back_prop,lr)\n",
        "\n",
        "  return cross_entropy_loss, accuracy"
      ],
      "execution_count": 159,
      "outputs": []
    },
    {
      "cell_type": "code",
      "metadata": {
        "id": "EIC3UDtEAF1m",
        "colab_type": "code",
        "colab": {
          "base_uri": "https://localhost:8080/",
          "height": 748
        },
        "outputId": "2f34b224-4537-42f9-bb74-cd0f9adb9f97"
      },
      "source": [
        "for epoch in range(2):\n",
        "  print(' Epoch ----%d----',epoch + 1)\n",
        "\n",
        "  #Shuffle training data\n",
        "  shuffle_data = np.random.permutation(len(train_img))\n",
        "  train_img = train_img[shuffle_data]\n",
        "  train_label = train_label[shuffle_data]\n",
        "\n",
        "  # Training\n",
        "  loss = 0\n",
        "  num_correct = 0\n",
        "  for i,(im,label) in enumerate(zip(train_img,train_label)):\n",
        "    if i % 100 == 0:\n",
        "      print ('loss: ',loss/100)\n",
        "      print(\"Accuracy \", num_correct)\n",
        "      loss = 0\n",
        "      num_correct = 0\n",
        "    l1, accu = training_cnn(im,label)\n",
        "    loss = loss + l1\n",
        "    num_correct = num_correct + accu\n",
        "\n",
        "  # testing cnn\n",
        "  print (\"-------Testing Phase------\")\n",
        "  loss = 0\n",
        "  num_correct = 0\n",
        "  for im,label in enumerate(zip(test_img,test_label)):\n",
        "    _, l1, accu = cnn_forward_propogation(im,label)\n",
        "    loss = loss + l1\n",
        "    num_correct = num_correct + accu\n",
        "  \n",
        "  num_tests = len(test_img)\n",
        "  print ('Test Loss: ', loss/num_tests)\n",
        "  print ('Test Accuracy: ', num_correct / num_tests)\n",
        "\n"
      ],
      "execution_count": 160,
      "outputs": [
        {
          "output_type": "stream",
          "text": [
            " Epoch ----%d---- 1\n",
            "loss:  0.0\n",
            "Accuracy  0\n",
            "loss:  34.15102272352379\n",
            "Accuracy  17\n",
            "loss:  24.18056061112161\n",
            "Accuracy  20\n",
            "loss:  16.532004551031683\n",
            "Accuracy  31\n",
            "loss:  14.464410614776723\n",
            "Accuracy  31\n",
            "loss:  12.30282893666649\n",
            "Accuracy  37\n",
            "loss:  10.977287648648922\n",
            "Accuracy  36\n",
            "loss:  10.430694330988864\n",
            "Accuracy  38\n",
            "loss:  7.211846370269075\n",
            "Accuracy  58\n",
            "loss:  6.324937185042063\n",
            "Accuracy  55\n",
            "-------Testing Phase------\n"
          ],
          "name": "stdout"
        },
        {
          "output_type": "error",
          "ename": "AttributeError",
          "evalue": "ignored",
          "traceback": [
            "\u001b[0;31m---------------------------------------------------------------------------\u001b[0m",
            "\u001b[0;31mAttributeError\u001b[0m                            Traceback (most recent call last)",
            "\u001b[0;32m<ipython-input-160-675cad0add8f>\u001b[0m in \u001b[0;36m<module>\u001b[0;34m()\u001b[0m\n\u001b[1;32m     25\u001b[0m   \u001b[0mnum_correct\u001b[0m \u001b[0;34m=\u001b[0m \u001b[0;36m0\u001b[0m\u001b[0;34m\u001b[0m\u001b[0;34m\u001b[0m\u001b[0m\n\u001b[1;32m     26\u001b[0m   \u001b[0;32mfor\u001b[0m \u001b[0mim\u001b[0m\u001b[0;34m,\u001b[0m\u001b[0mlabel\u001b[0m \u001b[0;32min\u001b[0m \u001b[0menumerate\u001b[0m\u001b[0;34m(\u001b[0m\u001b[0mzip\u001b[0m\u001b[0;34m(\u001b[0m\u001b[0mtest_img\u001b[0m\u001b[0;34m,\u001b[0m\u001b[0mtest_label\u001b[0m\u001b[0;34m)\u001b[0m\u001b[0;34m)\u001b[0m\u001b[0;34m:\u001b[0m\u001b[0;34m\u001b[0m\u001b[0;34m\u001b[0m\u001b[0m\n\u001b[0;32m---> 27\u001b[0;31m     \u001b[0m_\u001b[0m\u001b[0;34m,\u001b[0m \u001b[0ml1\u001b[0m\u001b[0;34m,\u001b[0m \u001b[0maccu\u001b[0m \u001b[0;34m=\u001b[0m \u001b[0mcnn_forward_propogation\u001b[0m\u001b[0;34m(\u001b[0m\u001b[0mim\u001b[0m\u001b[0;34m,\u001b[0m\u001b[0mlabel\u001b[0m\u001b[0;34m)\u001b[0m\u001b[0;34m\u001b[0m\u001b[0;34m\u001b[0m\u001b[0m\n\u001b[0m\u001b[1;32m     28\u001b[0m     \u001b[0mloss\u001b[0m \u001b[0;34m=\u001b[0m \u001b[0mloss\u001b[0m \u001b[0;34m+\u001b[0m \u001b[0ml1\u001b[0m\u001b[0;34m\u001b[0m\u001b[0;34m\u001b[0m\u001b[0m\n\u001b[1;32m     29\u001b[0m     \u001b[0mnum_correct\u001b[0m \u001b[0;34m=\u001b[0m \u001b[0mnum_correct\u001b[0m \u001b[0;34m+\u001b[0m \u001b[0maccu\u001b[0m\u001b[0;34m\u001b[0m\u001b[0;34m\u001b[0m\u001b[0m\n",
            "\u001b[0;32m<ipython-input-158-a32155a02794>\u001b[0m in \u001b[0;36mcnn_forward_propogation\u001b[0;34m(image, label)\u001b[0m\n\u001b[1;32m      1\u001b[0m \u001b[0;32mdef\u001b[0m \u001b[0mcnn_forward_propogation\u001b[0m\u001b[0;34m(\u001b[0m\u001b[0mimage\u001b[0m\u001b[0;34m,\u001b[0m\u001b[0mlabel\u001b[0m\u001b[0;34m)\u001b[0m\u001b[0;34m:\u001b[0m\u001b[0;34m\u001b[0m\u001b[0;34m\u001b[0m\u001b[0m\n\u001b[0;32m----> 2\u001b[0;31m   \u001b[0moutput_f_p\u001b[0m \u001b[0;34m=\u001b[0m \u001b[0mconv_object\u001b[0m\u001b[0;34m.\u001b[0m\u001b[0mforward_propogation\u001b[0m\u001b[0;34m(\u001b[0m\u001b[0;34m(\u001b[0m\u001b[0mimage\u001b[0m\u001b[0;34m/\u001b[0m\u001b[0;36m255\u001b[0m\u001b[0;34m)\u001b[0m\u001b[0;34m-\u001b[0m\u001b[0;36m0.5\u001b[0m\u001b[0;34m)\u001b[0m\u001b[0;34m\u001b[0m\u001b[0;34m\u001b[0m\u001b[0m\n\u001b[0m\u001b[1;32m      3\u001b[0m   \u001b[0moutput_f_p\u001b[0m \u001b[0;34m=\u001b[0m \u001b[0mpool_object\u001b[0m\u001b[0;34m.\u001b[0m\u001b[0mforward_propogation\u001b[0m\u001b[0;34m(\u001b[0m\u001b[0moutput_f_p\u001b[0m\u001b[0;34m)\u001b[0m\u001b[0;34m\u001b[0m\u001b[0;34m\u001b[0m\u001b[0m\n\u001b[1;32m      4\u001b[0m   \u001b[0moutput_f_p\u001b[0m \u001b[0;34m=\u001b[0m \u001b[0msoft_max_object\u001b[0m\u001b[0;34m.\u001b[0m\u001b[0mforward_propogation\u001b[0m\u001b[0;34m(\u001b[0m\u001b[0moutput_f_p\u001b[0m\u001b[0;34m)\u001b[0m\u001b[0;34m\u001b[0m\u001b[0;34m\u001b[0m\u001b[0m\n\u001b[1;32m      5\u001b[0m \u001b[0;34m\u001b[0m\u001b[0m\n",
            "\u001b[0;32m<ipython-input-146-c1c883ac5904>\u001b[0m in \u001b[0;36mforward_propogation\u001b[0;34m(self, image)\u001b[0m\n\u001b[1;32m     15\u001b[0m \u001b[0;34m\u001b[0m\u001b[0m\n\u001b[1;32m     16\u001b[0m   \u001b[0;32mdef\u001b[0m \u001b[0mforward_propogation\u001b[0m\u001b[0;34m(\u001b[0m\u001b[0mself\u001b[0m\u001b[0;34m,\u001b[0m\u001b[0mimage\u001b[0m\u001b[0;34m)\u001b[0m\u001b[0;34m:\u001b[0m\u001b[0;34m\u001b[0m\u001b[0;34m\u001b[0m\u001b[0m\n\u001b[0;32m---> 17\u001b[0;31m     \u001b[0mheight\u001b[0m\u001b[0;34m,\u001b[0m\u001b[0mwidth\u001b[0m \u001b[0;34m=\u001b[0m \u001b[0mimage\u001b[0m\u001b[0;34m.\u001b[0m\u001b[0mshape\u001b[0m\u001b[0;34m\u001b[0m\u001b[0;34m\u001b[0m\u001b[0m\n\u001b[0m\u001b[1;32m     18\u001b[0m     \u001b[0mconv_output\u001b[0m \u001b[0;34m=\u001b[0m \u001b[0mnp\u001b[0m\u001b[0;34m.\u001b[0m\u001b[0mzeros\u001b[0m\u001b[0;34m(\u001b[0m\u001b[0;34m(\u001b[0m\u001b[0mheight\u001b[0m\u001b[0;34m-\u001b[0m\u001b[0mself\u001b[0m\u001b[0;34m.\u001b[0m\u001b[0mfilter_size\u001b[0m\u001b[0;34m+\u001b[0m\u001b[0;36m1\u001b[0m\u001b[0;34m,\u001b[0m\u001b[0mwidth\u001b[0m\u001b[0;34m-\u001b[0m\u001b[0mself\u001b[0m\u001b[0;34m.\u001b[0m\u001b[0mfilter_size\u001b[0m\u001b[0;34m+\u001b[0m\u001b[0;36m1\u001b[0m\u001b[0;34m,\u001b[0m\u001b[0mself\u001b[0m\u001b[0;34m.\u001b[0m\u001b[0mnum_filter\u001b[0m\u001b[0;34m)\u001b[0m\u001b[0;34m)\u001b[0m\u001b[0;34m\u001b[0m\u001b[0;34m\u001b[0m\u001b[0m\n\u001b[1;32m     19\u001b[0m     \u001b[0;32mfor\u001b[0m \u001b[0mimg_patch\u001b[0m\u001b[0;34m,\u001b[0m \u001b[0mi\u001b[0m\u001b[0;34m,\u001b[0m \u001b[0mj\u001b[0m \u001b[0;32min\u001b[0m \u001b[0mself\u001b[0m\u001b[0;34m.\u001b[0m\u001b[0mimage_patch\u001b[0m\u001b[0;34m(\u001b[0m\u001b[0mimage\u001b[0m\u001b[0;34m)\u001b[0m\u001b[0;34m:\u001b[0m\u001b[0;34m\u001b[0m\u001b[0;34m\u001b[0m\u001b[0m\n",
            "\u001b[0;31mAttributeError\u001b[0m: 'float' object has no attribute 'shape'"
          ]
        }
      ]
    },
    {
      "cell_type": "code",
      "metadata": {
        "id": "M84s0TxKB71v",
        "colab_type": "code",
        "colab": {}
      },
      "source": [
        ""
      ],
      "execution_count": null,
      "outputs": []
    }
  ]
}